{
 "cells": [
  {
   "cell_type": "markdown",
   "id": "dee20874-fa2b-494d-99f3-45dd4e27126b",
   "metadata": {},
   "source": [
    "1.Write a Python program to find the reverse of a string. Expected Output (for input \"hello\"):\n",
    "olleh\n"
   ]
  },
  {
   "cell_type": "code",
   "execution_count": 4,
   "id": "b448ce36-e7f3-457d-92f7-8f1d48793073",
   "metadata": {},
   "outputs": [
    {
     "name": "stdout",
     "output_type": "stream",
     "text": [
      "olleh\n"
     ]
    }
   ],
   "source": [
    "string1=\"hello\"\n",
    "print(string1[::-1])"
   ]
  },
  {
   "cell_type": "markdown",
   "id": "246e497c-0f85-44b6-83bc-b92b6aaa7936",
   "metadata": {},
   "source": [
    "2.Write a Python program to generate the Fibonacci sequence up to 10 terms.\n",
    "Expected Output:\n",
    "0 1 1 2 3 5 8 13 21 34\n",
    "\n"
   ]
  },
  {
   "cell_type": "code",
   "execution_count": 5,
   "id": "47d4631e-055c-4916-b40b-95db471aaaa1",
   "metadata": {},
   "outputs": [
    {
     "name": "stdout",
     "output_type": "stream",
     "text": [
      "[0, 1, 1, 2, 3, 5, 8, 13, 21, 34]\n"
     ]
    }
   ],
   "source": [
    "sequence=[0,1]\n",
    "for i in range(2,10):\n",
    "    sequence.append(sequence[-1]+sequence[-2]) \n",
    "print(sequence)"
   ]
  },
  {
   "cell_type": "markdown",
   "id": "6123fcdc-f54e-4644-850c-26f1e0febe3c",
   "metadata": {},
   "source": [
    "3.Write a Python function to check if a given string is a palindrome.\n",
    "Expected Output (for input \"madam\"):\n",
    "madam is a palindrome\n",
    "\n"
   ]
  },
  {
   "cell_type": "code",
   "execution_count": 6,
   "id": "ece8acb1-eaef-4139-92a1-14f9aa74697c",
   "metadata": {},
   "outputs": [
    {
     "name": "stdout",
     "output_type": "stream",
     "text": [
      "madam is a pallindrome\n"
     ]
    }
   ],
   "source": [
    "string1=\"madam\"\n",
    "if(string1==string1[::-1]):\n",
    "    print(f\"{string1} is a pallindrome\")\n",
    "else:\n",
    "    print(f\"{string1} is not a pallindrome\")"
   ]
  },
  {
   "cell_type": "markdown",
   "id": "bddf1de5-6580-4dd1-8463-815f3f3369fd",
   "metadata": {},
   "source": [
    "\n",
    "\n",
    "4.Write a Python program to count the number of vowels in a given string. \n",
    "Expected Output (for input \"education\"):\n",
    "\n",
    "Number of vowels: 5\n"
   ]
  },
  {
   "cell_type": "code",
   "execution_count": 7,
   "id": "27380e2e-dbf0-425a-8ff3-687d86a5b848",
   "metadata": {},
   "outputs": [
    {
     "name": "stdout",
     "output_type": "stream",
     "text": [
      "5\n"
     ]
    }
   ],
   "source": [
    "string1=\"education\"\n",
    "vowels=\"aeiouAEIOU\"\n",
    "count=0\n",
    "for i in string1:\n",
    "    if i in vowels:\n",
    "        count+=1\n",
    "print(count)\n"
   ]
  },
  {
   "cell_type": "markdown",
   "id": "11adfa63-ab4a-48d7-ac6b-757e82eac297",
   "metadata": {},
   "source": [
    "5.Write a Python program to remove duplicates from a list.\n",
    "Expected Output (for input [1, 2, 2, 3, 4, 4, 5]):\n",
    "\n",
    " [1, 2, 3, 4, 5]\n",
    "\n",
    "\n"
   ]
  },
  {
   "cell_type": "code",
   "execution_count": 9,
   "id": "085cd1f9-71cd-4c4d-8f2a-ad6228db57d0",
   "metadata": {},
   "outputs": [
    {
     "name": "stdout",
     "output_type": "stream",
     "text": [
      "[1, 2, 3, 4, 5]\n"
     ]
    }
   ],
   "source": [
    "lis=[1,2,2,3,4,4,5]\n",
    "new_lis=[]\n",
    "for i in lis:\n",
    "    if i not in new_lis:\n",
    "        new_lis.append(i)\n",
    "print(new_lis)"
   ]
  },
  {
   "cell_type": "code",
   "execution_count": null,
   "id": "f5a7512e-4294-46a5-b19e-3af39a72bfea",
   "metadata": {},
   "outputs": [],
   "source": []
  }
 ],
 "metadata": {
  "kernelspec": {
   "display_name": "Python 3 (ipykernel)",
   "language": "python",
   "name": "python3"
  },
  "language_info": {
   "codemirror_mode": {
    "name": "ipython",
    "version": 3
   },
   "file_extension": ".py",
   "mimetype": "text/x-python",
   "name": "python",
   "nbconvert_exporter": "python",
   "pygments_lexer": "ipython3",
   "version": "3.12.11"
  }
 },
 "nbformat": 4,
 "nbformat_minor": 5
}
