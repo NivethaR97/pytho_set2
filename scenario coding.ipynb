{
 "cells": [
  {
   "cell_type": "code",
   "execution_count": 4,
   "id": "15348cb2-a33d-4322-89dd-08c53026a155",
   "metadata": {},
   "outputs": [
    {
     "name": "stdin",
     "output_type": "stream",
     "text": [
      "Enter the number: 50\n"
     ]
    },
    {
     "name": "stdout",
     "output_type": "stream",
     "text": [
      "positive\n"
     ]
    }
   ],
   "source": [
    "num=int(input(\"Enter the number:\"))\n",
    "if num>0:\n",
    "    print(\"positive\")\n",
    "elif num<0:\n",
    "    print(\"negative\")\n",
    "else:\n",
    "    print(\"zero\")"
   ]
  },
  {
   "cell_type": "code",
   "execution_count": 36,
   "id": "4965de5f-ef8c-44a0-ae6d-e2361c67b04f",
   "metadata": {},
   "outputs": [
    {
     "name": "stdin",
     "output_type": "stream",
     "text": [
      "Enter the passcode: 123\n"
     ]
    },
    {
     "name": "stdout",
     "output_type": "stream",
     "text": [
      "6\n"
     ]
    }
   ],
   "source": [
    "num=input(\"Enter the passcode:\")\n",
    "lst=[]\n",
    "for i in num:\n",
    "    lst.append(int(i))\n",
    "print(sum(lst))\n",
    "\n"
   ]
  },
  {
   "cell_type": "code",
   "execution_count": 228,
   "id": "2ea739d8-0e4f-4670-b48c-64aa6d3b986a",
   "metadata": {},
   "outputs": [
    {
     "name": "stdin",
     "output_type": "stream",
     "text": [
      "Enter the transaction ID: 123\n"
     ]
    },
    {
     "name": "stdout",
     "output_type": "stream",
     "text": [
      "321\n"
     ]
    }
   ],
   "source": [
    "num=input(\"Enter the transaction ID:\")\n",
    "print(num[::-1])"
   ]
  },
  {
   "cell_type": "code",
   "execution_count": 66,
   "id": "b2217a69-5543-4694-b241-0577915c7486",
   "metadata": {},
   "outputs": [
    {
     "name": "stdin",
     "output_type": "stream",
     "text": [
      "Enter the number: 5\n"
     ]
    },
    {
     "name": "stdout",
     "output_type": "stream",
     "text": [
      "5 is a prime number\n"
     ]
    }
   ],
   "source": [
    "n=int(input(\"Enter the number:\"))\n",
    "if n>1:\n",
    "    for i in range(2,int(n**0.5)+1):\n",
    "        if n%i==0:\n",
    "           print(f\"{n} is not a prime number\")\n",
    "           break\n",
    "    else:\n",
    "        print(f\"{n} is a prime number\")\n",
    "else:\n",
    "    print(f\"{n} is a prime number\")\n",
    "            "
   ]
  },
  {
   "cell_type": "code",
   "execution_count": 79,
   "id": "0e8f7e90-378b-4531-90a8-1cc73d7e999b",
   "metadata": {},
   "outputs": [
    {
     "name": "stdout",
     "output_type": "stream",
     "text": [
      "120\n"
     ]
    }
   ],
   "source": [
    "def recursion(n):\n",
    "    if n==0 or n==1:\n",
    "        return 1\n",
    "    else:\n",
    "        return n*recursion(n-1)\n",
    "print(recursion(5))\n",
    "    "
   ]
  },
  {
   "cell_type": "code",
   "execution_count": 105,
   "id": "32fc6357-e34f-4144-b919-a906401fc7c2",
   "metadata": {},
   "outputs": [
    {
     "name": "stdin",
     "output_type": "stream",
     "text": [
      "Enter the number: 153\n"
     ]
    },
    {
     "name": "stdout",
     "output_type": "stream",
     "text": [
      "153 is armstrong number\n"
     ]
    }
   ],
   "source": [
    "n=input(\"Enter the number:\")\n",
    "lis=[]\n",
    "for i in n:\n",
    "    y=int(i)**len(n)\n",
    "    lis.append(y)\n",
    "armstrong=sum(lis)\n",
    "if int(n)==armstrong:\n",
    "    print(f\"{n} is armstrong number\")\n",
    "else:\n",
    "    print(f\"{n} is not a armstrong number\")"
   ]
  },
  {
   "cell_type": "code",
   "execution_count": 131,
   "id": "30a090dc-65b3-43b0-bed4-ee8cbfb22b86",
   "metadata": {},
   "outputs": [
    {
     "data": {
      "text/plain": [
       "'aivethn'"
      ]
     },
     "execution_count": 131,
     "metadata": {},
     "output_type": "execute_result"
    }
   ],
   "source": [
    "def swap(n):\n",
    "    if len(n)<=1:\n",
    "        return n\n",
    "    else:\n",
    "        return n[-1]+n[1:-1]+n[0]\n",
    "swap(\"nivetha\")\n"
   ]
  },
  {
   "cell_type": "code",
   "execution_count": 150,
   "id": "493bd0da-c4d7-4bc8-a6c1-9d995b42ea99",
   "metadata": {},
   "outputs": [
    {
     "name": "stdout",
     "output_type": "stream",
     "text": [
      "[1, 1, 0, 1]\n"
     ]
    }
   ],
   "source": [
    "n=13\n",
    "lis=[]\n",
    "while n>0:\n",
    "    quotient=n//2\n",
    "    remainder=n%2\n",
    "    lis.append(remainder)\n",
    "    n=quotient\n",
    "print(lis[::-1])"
   ]
  },
  {
   "cell_type": "code",
   "execution_count": 181,
   "id": "abb3c66c-fe5e-4fa3-bded-7e9940ca2036",
   "metadata": {},
   "outputs": [
    {
     "name": "stdout",
     "output_type": "stream",
     "text": [
      "Programming\n"
     ]
    }
   ],
   "source": [
    "sentence=\"Python is a Programming Language\"\n",
    "word=sentence.split(\" \")\n",
    "max_length=max(len(i) for i in word)\n",
    "for i in word:\n",
    "    if len(i)==max_length:\n",
    "        print(i)\n",
    "      "
   ]
  },
  {
   "cell_type": "code",
   "execution_count": 227,
   "id": "ca129473-fe93-4d31-8fa7-2cf4a7130ba0",
   "metadata": {},
   "outputs": [
    {
     "name": "stdout",
     "output_type": "stream",
     "text": [
      "Anagram\n"
     ]
    }
   ],
   "source": [
    "string1=\"silent\"\n",
    "string2=\"listen\"\n",
    "x=string1.lower()\n",
    "y=string2.lower()\n",
    "if sorted(x)==sorted(y):\n",
    "    print(\"Anagram\")\n",
    "else:\n",
    "    print(\"Not a Anagram\")\n",
    "        "
   ]
  },
  {
   "cell_type": "code",
   "execution_count": null,
   "id": "2e2fdb4a-6420-4d8a-9bf1-5f1a287d9ddc",
   "metadata": {},
   "outputs": [],
   "source": []
  }
 ],
 "metadata": {
  "kernelspec": {
   "display_name": "Python 3 (ipykernel)",
   "language": "python",
   "name": "python3"
  },
  "language_info": {
   "codemirror_mode": {
    "name": "ipython",
    "version": 3
   },
   "file_extension": ".py",
   "mimetype": "text/x-python",
   "name": "python",
   "nbconvert_exporter": "python",
   "pygments_lexer": "ipython3",
   "version": "3.12.11"
  }
 },
 "nbformat": 4,
 "nbformat_minor": 5
}
